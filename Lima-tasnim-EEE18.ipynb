{
 "cells": [
  {
   "cell_type": "markdown",
   "metadata": {},
   "source": [
    "## <font color = 'blue'>  About flow control</font>\n",
    "**Question-1:** What is flow control?\n",
    "#### <font color = 'green'>Answer:</font>\n",
    "\n",
    "In computer science, flow of control is the order in which individual statements, instructions or function calls of an imperative program are executed or evaluated.The flow control of python program is regulated by conditional statements, loops and function calls.<br>\n",
    "Example:<br>\n",
    "```python\n",
    "if (condition):\n",
    "    statement 1\n",
    "else:\n",
    "    statement 2\n",
    "statement 3\n",
    "```\n",
    "\n",
    "\n",
    "   \n"
   ]
  },
  {
   "cell_type": "markdown",
   "metadata": {},
   "source": [
    "**Question-2:**List all flow control with example.\n",
    "#### <font color = 'green'>Answer:</font>\n",
    "There are countless different systems for flow control in programming, but four are by far the most common:\n",
    "\n",
    "1. Sequential statement.\n",
    "2. Conditional statement.\n",
    "    * if satements.\n",
    "    * if -else statements.\n",
    "    * if - elif statements\n",
    "    * if- elif ladder.\n",
    "3. Iterative statement.\n",
    "    * for\n",
    "    * while\n",
    "4. Transfer statement\n",
    "\n",
    "#### <font color = 'green'>1.Sequential statement </font>\n",
    "Sequential statements are set of statements where the execution process will happen in sequence manner.So these kind of statements are called as sequential statements.<br>\n",
    "Syntax :\n",
    "```python\n",
    "statement 1\n",
    "statement 2\n",
    "statement 3\n",
    "...........\n",
    "...........\n",
    "statement n\n",
    "```\n"
   ]
  },
  {
   "cell_type": "code",
   "execution_count": 3,
   "metadata": {},
   "outputs": [
    {
     "name": "stdout",
     "output_type": "stream",
     "text": [
      "sum for two number.\n",
      "sum = 30\n"
     ]
    }
   ],
   "source": [
    "# program for sequential statement.\n",
    "\n",
    "print(\"sum for two number.\")\n",
    "a =10\n",
    "b = 20\n",
    "print(\"sum =\", (a+b))"
   ]
  },
  {
   "cell_type": "markdown",
   "metadata": {},
   "source": [
    "#### <font color = 'green'>2. Conditional statement</font>\n",
    "A conditional statement may refer to a conditional formula in logic and mathematics, which can be interpreted as: material conditional, strict conditional, variably strict conditional and relevence conditional.<br>\n",
    "syntax,\n",
    "```python\n",
    "if (condition):\n",
    "    print(\"statement\")\n",
    "else:\n",
    "    print(\"alternative\")\n",
    "```\n",
    "    \n",
    "    Example:\n",
    "\n"
   ]
  },
  {
   "cell_type": "code",
   "execution_count": 4,
   "metadata": {},
   "outputs": [
    {
     "name": "stdout",
     "output_type": "stream",
     "text": [
      "True\n"
     ]
    }
   ],
   "source": [
    "a = 10\n",
    "b = 20\n",
    "if a < b:\n",
    "    print(\"True\")\n",
    "else:\n",
    "    print(\"False\")"
   ]
  },
  {
   "cell_type": "markdown",
   "metadata": {},
   "source": [
    "#### <font color = 'green'> 3. Iterative statement</font>\n",
    "An iteration is the process where a set of instructions or statements is executed repeatedly for a specified number of time or untill condition is met.\n",
    "Such a statement is known as iterative statement.<br>\n",
    "syntax of for loop:\n",
    "```python\n",
    "for value in sequence:\n",
    "    Body of for\n",
    "```\n",
    "Example:\n",
    "    \n"
   ]
  },
  {
   "cell_type": "code",
   "execution_count": 5,
   "metadata": {},
   "outputs": [
    {
     "name": "stdout",
     "output_type": "stream",
     "text": [
      "true\n",
      "true\n",
      "true\n",
      "true\n",
      "true\n",
      "true\n",
      "true\n",
      "true\n",
      "true\n"
     ]
    }
   ],
   "source": [
    "num = [6, 5, 3, 8, 4, 2, 5, 4, 11]\n",
    "val = 8\n",
    "\n",
    "for val in num:\n",
    "    print(\"true\")"
   ]
  },
  {
   "cell_type": "markdown",
   "metadata": {},
   "source": [
    "#### <font color ='green'> 4.Transfer statement</font>\n",
    "Transfer statements alter the way a logic gate executed. These statement are often used in loops - for and while. Let's have a look at the transfer statement below.\n",
    "* break\n",
    "* continue\n",
    "* pass\n",
    "\n",
    "Example:\n",
    "    "
   ]
  },
  {
   "cell_type": "code",
   "execution_count": 9,
   "metadata": {},
   "outputs": [
    {
     "name": "stdout",
     "output_type": "stream",
     "text": [
      "Number is 0\n",
      "Number is 1\n",
      "Number is 2\n",
      "Number is 3\n",
      "Number is 4\n",
      "Number is 6\n",
      "Number is 7\n",
      "Number is 8\n",
      "Number is 9\n",
      "Out of loop\n"
     ]
    }
   ],
   "source": [
    "number = 0\n",
    "\n",
    "for number in range(10):\n",
    "    if number == 5:\n",
    "        continue\n",
    "    print('Number is '+ str(number))\n",
    "print('Out of loop')"
   ]
  },
  {
   "cell_type": "markdown",
   "metadata": {},
   "source": [
    "## <font color = 'blue'>Conditional statement</font>\n",
    "**Question-1:** What is conditional statement?\n",
    "#### <font color ='green'> Answer:</font>\n",
    "In computer science, conditional statement is a feture of a programming language.Which perform differnt computations or actions depending on whether a  programmer-specified Boolean constraint evaluates to true or false.In python conditional statements are handled by if statements.\n",
    "Example:<br>\n",
    "```python\n",
    "if (boolean condition):\n",
    "    print(consequent)\n",
    "else:\n",
    "    print(alternative)\n",
    "```"
   ]
  },
  {
   "cell_type": "markdown",
   "metadata": {},
   "source": [
    "**Question-2:** Describe structure of conditional statement.\n",
    "#### <font color = 'green'> Answer:</font>\n",
    "In python we can achieve decision making by using the below conditional statements:<br>\n",
    "\n",
    "* If statements.\n",
    "* If- else statements.\n",
    "* If -elif-else statements.\n",
    "* If - elif ladder.\n",
    "\n",
    "### <font color = 'green'>If statements:</font>\n",
    "An if statement is a programming conditional statement that, if proved true, perfotms a function or displays information.<br>\n",
    "Syntax:\n",
    "```python\n",
    "    if (conditon):\n",
    "        print(\"statement\")\n",
    "```\n",
    "Example:\n",
    "\n",
    "\n",
    "\n",
    "\n",
    " "
   ]
  },
  {
   "cell_type": "code",
   "execution_count": 10,
   "metadata": {},
   "outputs": [
    {
     "name": "stdout",
     "output_type": "stream",
     "text": [
      "True\n"
     ]
    }
   ],
   "source": [
    "a = 10\n",
    "b = 8\n",
    "if a>b:\n",
    "    print(\"True\")"
   ]
  },
  {
   "cell_type": "markdown",
   "metadata": {},
   "source": [
    "#### <font color = 'green'>If - else statement</font>\n",
    "The if- else statement executes a block of code if a specified condition is true. If the condition is false, another block of code can be executed.<br>\n",
    "Syntax:\n",
    "```python\n",
    "if (condition):\n",
    "    print(\"statement1\")\n",
    "else:\n",
    "    print(\"statement\")\n",
    "```\n",
    "Example:"
   ]
  },
  {
   "cell_type": "code",
   "execution_count": 12,
   "metadata": {},
   "outputs": [
    {
     "name": "stdout",
     "output_type": "stream",
     "text": [
      "True\n"
     ]
    }
   ],
   "source": [
    "# program for if else statenment.\n",
    "a = 30\n",
    "b = 20\n",
    "if a>b:\n",
    "    print(\"True\")\n",
    "else:\n",
    "    print(\"False\")"
   ]
  },
  {
   "cell_type": "markdown",
   "metadata": {},
   "source": [
    "#### <font color = 'green'> If -elif -else statement</font>\n",
    "The if-elif-else is used to conditionally execute a statement of block of statements.Conditions can be true or false, execute one thing when the condition is true, something else when the condition is false.<br>\n",
    "Syntax:\n",
    "```python\n",
    "if Expression1:\n",
    "    statement 1\n",
    "elif Expression 2:\n",
    "    statement 2\n",
    "else:\n",
    "    statement3\n",
    "```\n",
    "\n",
    "Example:\n"
   ]
  },
  {
   "cell_type": "code",
   "execution_count": 16,
   "metadata": {},
   "outputs": [
    {
     "name": "stdout",
     "output_type": "stream",
     "text": [
      "Enter the number: 57\n",
      "Enter the number: 87\n",
      "Second number is larger\n"
     ]
    }
   ],
   "source": [
    "a = int((input(\"Enter the number: \")))\n",
    "b = int(input(\"Enter the number: \"))\n",
    "\n",
    "if a>b:\n",
    "    print(\"First number is larger\")\n",
    "elif b>a:\n",
    "    print(\"Second number is larger\")\n",
    "else:\n",
    "    print(\"Two number is equal\")"
   ]
  },
  {
   "cell_type": "markdown",
   "metadata": {},
   "source": [
    "#### <font color = 'green'> If- elif ladder</font>\n",
    "This conditional statement evaluated from the top downward.As soon as a true condition is found, the statement associated with it is executed and the rest of the ladder is bypassed.<br>\n",
    "Syntax:\n",
    "```python\n",
    "if (condition 1):\n",
    "    statement 1\n",
    "elif (condition 2):\n",
    "    statement 2\n",
    "elif (condition 3):\n",
    "    statement 3\n",
    "................\n",
    "................\n",
    "elif (condition n):\n",
    "    statement n\n",
    "else:\n",
    "    statement\n",
    "```\n",
    "Example:"
   ]
  },
  {
   "cell_type": "code",
   "execution_count": 17,
   "metadata": {},
   "outputs": [
    {
     "name": "stdout",
     "output_type": "stream",
     "text": [
      "Please enter your marks : 67\n",
      "Your grade is A-\n"
     ]
    }
   ],
   "source": [
    "marks = int(input(\"Please enter your marks : \"))\n",
    "\n",
    "if marks>= 80:\n",
    "    print(\"Your grade is A+\")\n",
    "elif marks>=70:\n",
    "    print(\"Your grade is A\")\n",
    "elif marks>=60:\n",
    "    print(\"Your grade is A-\")\n",
    "elif marks>= 50:\n",
    "    print(\"Your grade is B\")\n",
    "elif marks>= 40:\n",
    "    print(\"Your grade is C\")\n",
    "elif marks>=33:\n",
    "    print(\"Your grade is D\")\n",
    "else:\n",
    "    (\"Your grade is F\")"
   ]
  },
  {
   "cell_type": "markdown",
   "metadata": {},
   "source": [
    "## <font color = 'blue'>Problem 1 </font>\n",
    "* Take input from a user and check whether the number is odd or even?\n",
    "#### <font color = 'green'>Answer:</font>\n",
    "The program is given bellow:"
   ]
  },
  {
   "cell_type": "code",
   "execution_count": 2,
   "metadata": {},
   "outputs": [
    {
     "name": "stdout",
     "output_type": "stream",
     "text": [
      "Please enter a number : 45\n",
      "45 is an odd number.\n"
     ]
    }
   ],
   "source": [
    "num = int(input(\"Please enter a number : \"))\n",
    "\n",
    "if num % 2 == 0:\n",
    "    print(num, \"is an even number.\")\n",
    "else:\n",
    "    print(num,\"is an odd number.\")"
   ]
  },
  {
   "cell_type": "markdown",
   "metadata": {},
   "source": [
    "## <font color = 'blue'>Problem 2</font>\n",
    "* Take integer input from user, say a\n",
    "    1. Print number of sample, if 100 <= a <200, and a is divisible by 9.\n",
    "    2. Display those numbers which are divisible by 7 and multiple of 5, between 500 and 100.\n",
    "    \n",
    "#### <font color = 'green'>Answer:</font>\n",
    "The program is given bellow:"
   ]
  },
  {
   "cell_type": "code",
   "execution_count": 3,
   "metadata": {},
   "outputs": [
    {
     "name": "stdout",
     "output_type": "stream",
     "text": [
      "Please enter a number : 135\n",
      "One\n"
     ]
    }
   ],
   "source": [
    "a = int(input(\"Please enter a number : \"))\n",
    "\n",
    "if ((100 <= a) and (a <200)) :\n",
    "    if (a % 9 == 0):\n",
    "        print(\"One\")\n",
    "        \n",
    "elif ((100 <= a) and (a <=500)):\n",
    "    if ((a % 7 == 0)and (a*5)):\n",
    "        print(\"Two\")\n",
    "        \n",
    "else:\n",
    "    print(\"This number is out of condition.\")"
   ]
  },
  {
   "cell_type": "markdown",
   "metadata": {},
   "source": [
    "## <font color = 'blue'>Problem 3</font>\n",
    "* Take year as a input integer from a user,\n",
    "    * check whether the year as leap year or not.\n",
    "    \n",
    "#### <font color = 'green'>Answer:</font>\n",
    "The program is given bellow:\n",
    "    "
   ]
  },
  {
   "cell_type": "code",
   "execution_count": 9,
   "metadata": {},
   "outputs": [
    {
     "name": "stdout",
     "output_type": "stream",
     "text": [
      "Enter the year : 2016\n",
      "2016 is a leap year.\n"
     ]
    }
   ],
   "source": [
    "year = int(input(\"Enter the year : \"))\n",
    "\n",
    "if ((year % 100 !=0) and (year % 4 == 0)) :\n",
    "    print(year, \"is a leap year.\")\n",
    "    \n",
    "elif ((year %100 == 0) and (year % 400 == 0)):\n",
    "    print(year, \"is a leap year\") \n",
    "    \n",
    "else:\n",
    "    print(year, \"is not a leap year\")"
   ]
  },
  {
   "cell_type": "markdown",
   "metadata": {},
   "source": [
    "## <font color = 'blue'> Problem 4 </font>\n",
    "* Make a simple calculator (function: +, -, * and /)\n",
    "    * Take three input from a user, say, input1, input2,input3.\n",
    "    * Input1 represent arithmatic sign (+, -, * and /)\n",
    "    * Input2 and input3 represent number.\n",
    "    * Display arithmatic output of input2 and input3 based on input1.\n",
    "    \n",
    "#### <font color = 'green'> Answer: </font>\n",
    "The program is given bellow:\n"
   ]
  },
  {
   "cell_type": "code",
   "execution_count": 18,
   "metadata": {},
   "outputs": [
    {
     "name": "stdout",
     "output_type": "stream",
     "text": [
      "1. for Add.\n",
      "2. for Substract.\n",
      "3. for Multiply\n",
      "4. for Divide.\n",
      "\n",
      "Enter your choise (1-4) : 3\n",
      "Enter the first number : 4556\n",
      "Enter the second number : 456\n",
      "\n",
      " Multiplication of the two number is =  2077536\n"
     ]
    }
   ],
   "source": [
    "# menus for the calculator.\n",
    "print(\"1. for Add.\")\n",
    "print(\"2. for Substract.\")\n",
    "print(\"3. for Multiply\")\n",
    "print(\"4. for Divide.\\n\")\n",
    "\n",
    "input1 = int(input(\"Enter your choise (1-4) : \"))\n",
    "\n",
    "input2 = int(input(\"Enter the first number : \")) \n",
    "input3 = int(input(\"Enter the second number : \"))\n",
    "\n",
    "if input1 == 1:\n",
    "    k = input2 + input3\n",
    "    print(\"\\n Sum of the two number is = \", k)\n",
    "elif input1 == 2:\n",
    "    k = input2 - input3\n",
    "    print(\"\\n Subtraction of the two number is = \", k)\n",
    "elif input1 == 3:\n",
    "    k = input2 * input3\n",
    "    print(\"\\n Multiplication of the two number is = \", k)\n",
    "elif input1 == 4:\n",
    "    k = input2 / input3\n",
    "    print(\"\\n dividation of the two number is = \", k)\n",
    "else:\n",
    "    print(\"\\n Invalid choise.\")\n",
    "    \n",
    "\n"
   ]
  },
  {
   "cell_type": "markdown",
   "metadata": {},
   "source": [
    "## <font color = 'blue'> Problem 5</font>\n",
    "* Take a number from user, check if the number is positive or negative or zero and display an appropriate message.\n",
    "#### <font color = 'green'> Answer:</font>\n",
    "The program is given bellow:"
   ]
  },
  {
   "cell_type": "code",
   "execution_count": 6,
   "metadata": {},
   "outputs": [
    {
     "name": "stdout",
     "output_type": "stream",
     "text": [
      "Enter the number : 61\n",
      "61 is a positive number.\n"
     ]
    }
   ],
   "source": [
    "num = int(input(\"Enter the number : \"))\n",
    "if num >0 :\n",
    "    print(num, \"is a positive number.\")\n",
    "elif num < 0:\n",
    "    print(num, \"is a negative number.\")\n",
    "else:\n",
    "    print(\"It is zero\")"
   ]
  },
  {
   "cell_type": "markdown",
   "metadata": {},
   "source": [
    "## <font color = 'blue'> Problem 6 </font>\n",
    "* Take values of length and breadth of a rectangle from a user and check if it is square or not.\n",
    "#### <font color = 'green'> Answer: </font>\n",
    "The program is given bellow:"
   ]
  },
  {
   "cell_type": "code",
   "execution_count": 3,
   "metadata": {},
   "outputs": [
    {
     "name": "stdout",
     "output_type": "stream",
     "text": [
      "Enter the value of length : 6.7\n",
      "Enter the value of breadth : 6.7\n",
      "Yes, it is a square\n"
     ]
    }
   ],
   "source": [
    "length = float(input(\"Enter the value of length : \"))\n",
    "breadth = float(input(\"Enter the value of breadth : \"))\n",
    "if length == breadth:\n",
    "    print(\"Yes, it is a square\")\n",
    "else:\n",
    "    print(\"No, it is only a rectangle\")"
   ]
  },
  {
   "cell_type": "markdown",
   "metadata": {},
   "source": [
    "## <font color = 'blue'> Problem 7 </font>\n",
    "* Take three integer values from a user and display the highest and lowest number among them.\n",
    "#### <font color = 'green'> Answer: </font>\n",
    "The program is given bellow:"
   ]
  },
  {
   "cell_type": "code",
   "execution_count": 24,
   "metadata": {},
   "outputs": [
    {
     "name": "stdout",
     "output_type": "stream",
     "text": [
      "Enter the value : 3\n",
      "Enter the value : 5\n",
      "Enter the value : 8\n",
      "The largest number is c =  8.0\n",
      "The lowest number is a =  3.0\n"
     ]
    }
   ],
   "source": [
    "a = float(input(\"Enter the value : \"))\n",
    "b = float(input(\"Enter the value : \"))\n",
    "c = float(input(\"Enter the value : \"))\n",
    "\n",
    "if ((a >= b) and (a >= c)):\n",
    "    print(\"The highest number is a = \", a)\n",
    "elif ((b >= a) and (b >= c)):\n",
    "    print(\"The highest number is b = \", b)\n",
    "else:\n",
    "    print(\"The largest number is c = \", c)\n",
    "\n",
    "# for lowest number.\n",
    "\n",
    "if ((a<=b) and (a<=c)):\n",
    "    print(\"The lowest number is a = \", a)\n",
    "elif((b<=a) and (b<=c)):\n",
    "    print(\"The lowest number is b = \",b)\n",
    "else:\n",
    "    print(\"The lowest number is c = \",c)\n",
    "\n",
    "    \n",
    "\n",
    "    "
   ]
  },
  {
   "cell_type": "markdown",
   "metadata": {},
   "source": [
    "## <font color = 'blue'> Problem 8 </font>\n",
    "* Ask a user to enter marks and print the corresponding grade.\n",
    "    * Hints\n",
    "        * Below 30 - F\n",
    "        * 30 to 35 - D\n",
    "        * 35 to 40 - C\n",
    "    * Grading should follow hstu grading structure.\n"
   ]
  },
  {
   "cell_type": "code",
   "execution_count": 1,
   "metadata": {},
   "outputs": [
    {
     "name": "stdout",
     "output_type": "stream",
     "text": [
      "Enter your marks : 77\n",
      "Your grade = A\n"
     ]
    }
   ],
   "source": [
    "marks = int(input(\"Enter your marks : \"))\n",
    "\n",
    "if marks >= 80:\n",
    "    print(\"Your grade = A+\")\n",
    "elif marks >= 75:\n",
    "    print(\"Your grade = A\")\n",
    "elif marks >= 70:\n",
    "    print(\"Your grade = A-\")\n",
    "elif marks >= 65:\n",
    "    print(\"Your grade = B+\")\n",
    "elif marks >= 60:\n",
    "    print(\"Your grade = B\")\n",
    "elif marks >= 55:\n",
    "    print(\"Your grade = B-\")\n",
    "elif marks >= 50:\n",
    "    print(\"Your grade = C+\")\n",
    "elif marks >= 45:\n",
    "    print(\"Your grade = C\")\n",
    "elif marks>=40    :\n",
    "    print(\"Your grade = D\")\n",
    "else:\n",
    "    print(\"Your grade = F\")"
   ]
  },
  {
   "cell_type": "code",
   "execution_count": null,
   "metadata": {},
   "outputs": [],
   "source": []
  }
 ],
 "metadata": {
  "kernelspec": {
   "display_name": "Python 3",
   "language": "python",
   "name": "python3"
  },
  "language_info": {
   "codemirror_mode": {
    "name": "ipython",
    "version": 3
   },
   "file_extension": ".py",
   "mimetype": "text/x-python",
   "name": "python",
   "nbconvert_exporter": "python",
   "pygments_lexer": "ipython3",
   "version": "3.8.5"
  }
 },
 "nbformat": 4,
 "nbformat_minor": 5
}
